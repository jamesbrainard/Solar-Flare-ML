{
 "cells": [
  {
   "cell_type": "code",
   "execution_count": null,
   "id": "2708fa97",
   "metadata": {},
   "outputs": [],
   "source": [
    "# ============================================\n",
    "# LIBRARIES & DIRECTORIES\n",
    "# =============================================\n",
    "import os\n",
    "import sys\n",
    "import pandas as pd\n",
    "import numpy as np\n",
    "\n",
    "PROCESSED_DIR = os.path.join(\"..\", \"data\", \"processed\")"
   ]
  },
  {
   "cell_type": "code",
   "execution_count": 11,
   "id": "8675c65d",
   "metadata": {},
   "outputs": [
    {
     "name": "stdout",
     "output_type": "stream",
     "text": [
      "(4307040, 14)\n"
     ]
    }
   ],
   "source": [
    "# ============================================\n",
    "# LOADS LABELED DATA\n",
    "# =============================================\n",
    "df = pd.read_csv(os.path.join(PROCESSED_DIR, \"flux_with_labels.csv\"))\n",
    "df[\"time\"] = pd.to_datetime(df[\"time\"])\n",
    "df = df.sort_values(\"time\").reset_index(drop=True)\n",
    "\n",
    "print(df.shape)"
   ]
  },
  {
   "cell_type": "code",
   "execution_count": 12,
   "id": "c16627b8",
   "metadata": {},
   "outputs": [
    {
     "name": "stdout",
     "output_type": "stream",
     "text": [
      "Adding log-transformed flux column... Done.\n",
      "Adding 5 minute rolling difference (the difference in flux from 5 minutes ago)...Done.\n",
      "Adding flux rate of change (gradient)...Done.\n",
      "Adding gradient change of flux (second derivative of flux curve)...Done.\n",
      "Adding 5 minute rolling maximum window (the max jump in flux over the last 5 minutes)...Done.\n",
      "Adding mean, min, max, and standard deviation over last 5/15/30/60 minutes...Done.\n",
      "Adding rolling slope (slope of flux over last 30 minutes): 4307039/4307040 (100.00%)...Done.\n",
      "Adding flux above background flag (binary, if flux is above NOAA-defined background threshold)...Done.\n",
      "Adding flux rising (binary) & streak (how many minutes in a row flux has been rising)...Done.\n"
     ]
    }
   ],
   "source": [
    "# ============================================\n",
    "# COMPUTES AND ADDS NEW FEATURES (FEATURES EXPLAINED IN PRINT STATEMENTS)\n",
    "# =============================================\n",
    "\n",
    "print(\"Adding log-transformed flux column... \", end = \"\")\n",
    "df[\"xrsb_flux_log\"] = np.log10(df[\"xrsb_flux\"].replace(0, np.nan)).fillna(-10)\n",
    "print(\"Done.\")\n",
    "\n",
    "print(\"Adding 5 minute rolling difference (the difference in flux from 5 minutes ago)...\", end = \"\")\n",
    "df[\"flux_diff_5min\"] = df[\"xrsb_flux\"].diff(periods=5)\n",
    "print(\"Done.\")\n",
    "\n",
    "print(\"Adding flux rate of change (gradient)...\", end =\"\")\n",
    "df[\"flux_rate\"] = df[\"xrsb_flux\"].diff().fillna(0)\n",
    "print(\"Done.\")\n",
    "\n",
    "print(\"Adding gradient change of flux (second derivative of flux curve)...\", end = \"\")\n",
    "df[\"flux_acceleration\"] = df[\"flux_rate\"].diff().fillna(0)\n",
    "print(\"Done.\")\n",
    "\n",
    "print(\"Adding 5 minute rolling maximum window (the max jump in flux over the last 5 minutes)...\", end = \"\")\n",
    "df[\"flux_max_diff_5min\"] = df[\"xrsb_flux\"].rolling(window=5).apply(lambda x: x.max() - x.min(), raw=True)\n",
    "print(\"Done.\")\n",
    "\n",
    "print(\"Adding mean, min, max, and standard deviation over last 5/15/30/60 minutes...\", end = \"\")\n",
    "for window in [5, 15, 30, 60]:\n",
    "    df[f\"rolling_avg_{window}min\"] = df[\"xrsb_flux\"].rolling(window=window, min_periods=1).mean()\n",
    "    df[f\"rolling_min_{window}min\"] = df[\"xrsb_flux\"].rolling(window=window, min_periods=1).min()\n",
    "    df[f\"rolling_max_{window}min\"] = df[\"xrsb_flux\"].rolling(window=window, min_periods=1).max()\n",
    "    df[f\"rolling_std_{window}min\"] = df[\"xrsb_flux\"].rolling(window=window, min_periods=1).std()\n",
    "print(\"Done.\")\n",
    "\n",
    "def rolling_slope(series, window=30):\n",
    "    slopes = [np.nan] * window\n",
    "    total = len(series)\n",
    "    for i in range(window, total):\n",
    "        y = series[i - window:i]\n",
    "        x = np.arange(window)\n",
    "        slope = np.polyfit(x, y, 1)[0] if not np.any(np.isnan(y)) else np.nan\n",
    "        slopes.append(slope)\n",
    "\n",
    "        # Progress indicator!\n",
    "        if i % 10000 == 0 or i == total - 1: # Only prints one every 10,000 and when finished\n",
    "            print(f\"\\rAdding rolling slope (slope of flux over last 30 minutes): {i}/{total} ({(i/total)*100:.2f}%)...\", end=\"\")\n",
    "\n",
    "    print(\"Done.\")\n",
    "    return pd.Series(slopes, index=series.index)\n",
    "df[\"rolling_slope_30min\"] = rolling_slope(df[\"xrsb_flux\"], window=30)\n",
    "\n",
    "print(\"Adding flux above background flag (binary, if flux is above NOAA-defined background threshold)...\", end = \"\")\n",
    "df[\"flux_above_background\"] = (df[\"xrsb_flux\"] > 1e-6).astype(int)\n",
    "print(\"Done.\")\n",
    "\n",
    "print(\"Adding flux rising (binary) & streak (how many minutes in a row flux has been rising)...\", end = \"\")\n",
    "df[\"flux_rising\"] = (df[\"xrsb_flux\"].diff() > 0).astype(int)\n",
    "df[\"rising_streak\"] = df[\"flux_rising\"] * (\n",
    "    df[\"flux_rising\"].groupby((df[\"flux_rising\"] != df[\"flux_rising\"].shift()).cumsum()).cumcount() + 1\n",
    ")\n",
    "print(\"Done.\")"
   ]
  },
  {
   "cell_type": "code",
   "execution_count": null,
   "id": "2a928883",
   "metadata": {},
   "outputs": [
    {
     "name": "stdout",
     "output_type": "stream",
     "text": [
      "Adding selected lag features only...\n",
      "Done. 13 lag features created.\n",
      "Adding future flux values (5–30 min ahead)...Done.\n",
      "Generating future flare flags for 6h, 12h, 18h, and 24h...\n",
      "  ➤ flare_in_next_6h (window=360 min)\n",
      "  ➤ flare_in_next_12h (window=720 min)\n",
      "  ➤ flare_in_next_18h (window=1080 min)\n",
      "  ➤ flare_in_next_24h (window=1440 min)\n",
      "Done.\n",
      "Class distributions:\n",
      "flare_in_next_6h\n",
      "0    2436031\n",
      "1    1871009\n",
      "Name: count, dtype: int64\n",
      "flare_in_next_12h\n",
      "1    2256145\n",
      "0    2050895\n",
      "Name: count, dtype: int64\n",
      "flare_in_next_18h\n",
      "1    2457427\n",
      "0    1849613\n",
      "Name: count, dtype: int64\n",
      "flare_in_next_24h\n",
      "1    2605509\n",
      "0    1701531\n",
      "Name: count, dtype: int64\n"
     ]
    }
   ],
   "source": [
    "# ============================================\n",
    "# ADDS LAG FEATURES AND FUTURE TARGETS\n",
    "# ============================================\n",
    "\n",
    "import numpy as np\n",
    "\n",
    "# Adding lag features for time-series data\n",
    "print(\"Adding selected lag features only...\")\n",
    "\n",
    "selected_lags = [1, 2, 3, 5, 10, 15, 30, 60, 90, 120, 180, 240, 300]\n",
    "for lag in selected_lags:\n",
    "    df[f\"xrsb_flux_lag_{lag}\"] = df[\"xrsb_flux\"].shift(lag).astype(np.float32)\n",
    "print(f\"Done.\")\n",
    "\n",
    "print(f\"Generating future flare flags for 6h, 12h, 18h, and 24h...\")\n",
    "# Creates a bianry array to make future processing (way) faster\n",
    "df = df.sort_values(\"time\").reset_index(drop=True)\n",
    "flare = df[\"binary_label\"].values[::-1]  # Reverse to be able to apply a .rolling operation into the future instead of the past\n",
    "\n",
    "# Defines time windows (in minutes)\n",
    "future_windows = {\n",
    "    \"6h\": 6 * 60,\n",
    "    \"12h\": 12 * 60,\n",
    "    \"18h\": 18 * 60,\n",
    "    \"24h\": 24 * 60\n",
    "}\n",
    "\n",
    "# Computes rolling max and assign as new columns\n",
    "for label, window in future_windows.items():\n",
    "    print(f\" - flare_in_next_{label} (window={window} min)\")\n",
    "    future_flare = (\n",
    "        pd.Series(flare)\n",
    "        .rolling(window=window, min_periods=1) # slides the window\n",
    "        .max() # checks to see if any 1s (flares) in the window\n",
    "        .fillna(0) # edge cases at the beginnings and ends of series\n",
    "        .astype(int) # won't work without this (idk why)\n",
    "        .values[::-1] # flips data back to forward time\n",
    "    )\n",
    "    df[f\"flare_in_next_{label}\"] = future_flare\n",
    "\n",
    "print(\"Done.\")\n",
    "\n",
    "# Checks the balance of each class\n",
    "print(\"Class distributions:\")\n",
    "print(df[\"flare_in_next_6h\"].value_counts().sort_index())\n",
    "print(df[\"flare_in_next_12h\"].value_counts().sort_index())\n",
    "print(df[\"flare_in_next_18h\"].value_counts().sort_index())\n",
    "print(df[\"flare_in_next_24h\"].value_counts().sort_index())"
   ]
  },
  {
   "cell_type": "code",
   "execution_count": 16,
   "id": "ef2bea2b",
   "metadata": {},
   "outputs": [
    {
     "name": "stdout",
     "output_type": "stream",
     "text": [
      "Saved features to flux_with_features.csv\n"
     ]
    }
   ],
   "source": [
    "# ============================================\n",
    "# SAVES DATA\n",
    "# =============================================\n",
    "FEATURE_DIR = os.path.join(\"..\", \"data\", \"processed\")\n",
    "os.makedirs(FEATURE_DIR, exist_ok=True)\n",
    "\n",
    "df.to_csv(os.path.join(FEATURE_DIR, \"flux_with_features.csv\"), index=False)\n",
    "print(\"Saved features to flux_with_features.csv\")"
   ]
  }
 ],
 "metadata": {
  "kernelspec": {
   "display_name": "Solar-Flares",
   "language": "python",
   "name": "python3"
  },
  "language_info": {
   "codemirror_mode": {
    "name": "ipython",
    "version": 3
   },
   "file_extension": ".py",
   "mimetype": "text/x-python",
   "name": "python",
   "nbconvert_exporter": "python",
   "pygments_lexer": "ipython3",
   "version": "3.10.13"
  }
 },
 "nbformat": 4,
 "nbformat_minor": 5
}
